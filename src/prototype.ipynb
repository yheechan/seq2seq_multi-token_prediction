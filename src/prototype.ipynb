{
 "cells": [
  {
   "cell_type": "code",
   "execution_count": 1,
   "metadata": {},
   "outputs": [],
   "source": [
    "import predictor\n",
    "import model_util as mu\n",
    "import data"
   ]
  },
  {
   "cell_type": "code",
   "execution_count": 13,
   "metadata": {},
   "outputs": [],
   "source": [
    "prefix = [119, 2, 47, 106, 2, 56, 2, 91, 119, 2, 91, 2, 56, 2, 48, 49, 2, 47, 48, 88, 50, 128, 134, 2, 47, 106, 2, 56, 2, 91, 2, 56, 2, 91, 106, 2, 56, 2, 48, 49, 2, 47, 48, 88, 50, 128, 134, 2, 47, 106, 2, 56, 2, 91, 2, 56, 2, 91, 106, 2, 56, 2, 48, 49]\n",
    "postfix = [91, 2, 47, 2, 49, 111, 50, 88, 48, 2, 91, 2, 91, 2, 47, 2, 49, 48, 48, 47, 2, 47, 117, 49, 48, 2, 56, 2, 106, 91, 2, 56, 2, 91, 2, 56, 2, 106, 47, 2, 134, 88, 48, 2, 56, 2, 106, 91, 2, 56, 2, 91, 2, 56, 2, 106, 47, 2, 134, 50, 88, 48, 47, 2]\n",
    "label_type = [2, 0, 0, 0, 0, 0, 0, 0, 0, 0]\n",
    "label_len = 1"
   ]
  },
  {
   "cell_type": "code",
   "execution_count": 14,
   "metadata": {},
   "outputs": [],
   "source": [
    "# prefix = [48, 2, 89, 33, 88, 111, 117, 47, 2, 53, 33, 48, 2, 89, 33, 88, 111, 117, 47, 2, 53, 33, 48, 2, 89, 33, 88, 111, 2, 89, 33, 88, 50, 50, 111, 2, 89, 33, 88, 2, 89, 33, 58, 2, 88, 117, 47, 2, 90, 47, 47, 134, 56, 48, 33, 48, 48, 124, 47, 2, 48, 88, 2, 89]\n",
    "# postfix = [56, 2, 50, 88, 48, 2, 47, 124, 88, 2, 89, 2, 56, 88, 48, 2, 73, 33, 47, 55, 46, 33, 61, 45, 2, 48, 33, 77, 2, 47, 117, 88, 2, 60, 2, 88, 48, 2, 91, 2, 91, 2, 47, 2, 88, 2, 62, 2, 89, 2, 88, 2, 48, 105, 133, 47, 89, 48, 59, 2, 47, 56, 88, 2]\n",
    "# label_type = [56, 2, 0, 0, 0, 0, 0, 0, 0, 0]\n",
    "# label_len = 2"
   ]
  },
  {
   "cell_type": "code",
   "execution_count": 15,
   "metadata": {},
   "outputs": [],
   "source": [
    "overall_title = 'webModel2'\n",
    "title = 'boringssl_'+overall_title+'_3'\n",
    "\n",
    "prefix_pack, postfix_pack, attn_pack = mu.getModel(overall_title, title)"
   ]
  },
  {
   "cell_type": "code",
   "execution_count": 16,
   "metadata": {},
   "outputs": [
    {
     "name": "stdout",
     "output_type": "stream",
     "text": [
      "[2, 0, 0, 0, 0, 0, 0, 0, 0, 0]\n"
     ]
    }
   ],
   "source": [
    "\n",
    "pred_results = predictor.predictNoBeam(prefix, postfix, prefix_pack, postfix_pack, attn_pack)"
   ]
  },
  {
   "cell_type": "code",
   "execution_count": 17,
   "metadata": {},
   "outputs": [],
   "source": [
    "pred_results = predictor.predict(prefix, postfix, prefix_pack, postfix_pack, attn_pack)"
   ]
  },
  {
   "cell_type": "code",
   "execution_count": 18,
   "metadata": {},
   "outputs": [
    {
     "name": "stdout",
     "output_type": "stream",
     "text": [
      "[2]\n",
      "[56]\n",
      "[56, 2]\n",
      "[2, 62]\n",
      "[2, 62, 2]\n"
     ]
    }
   ],
   "source": [
    "for i in pred_results:\n",
    "    print(i)"
   ]
  },
  {
   "cell_type": "code",
   "execution_count": 19,
   "metadata": {},
   "outputs": [],
   "source": [
    "idx2str = data.getIdx2str()"
   ]
  },
  {
   "cell_type": "code",
   "execution_count": 20,
   "metadata": {},
   "outputs": [],
   "source": [
    "final = data.idx2str(pred_results)"
   ]
  },
  {
   "cell_type": "code",
   "execution_count": 21,
   "metadata": {},
   "outputs": [
    {
     "name": "stdout",
     "output_type": "stream",
     "text": [
      "@@\n",
      "*\n",
      "* @@\n",
      "@@ ->\n",
      "@@ -> @@\n"
     ]
    }
   ],
   "source": [
    "for i in final:\n",
    "    print(i)"
   ]
  },
  {
   "cell_type": "code",
   "execution_count": null,
   "metadata": {},
   "outputs": [],
   "source": []
  }
 ],
 "metadata": {
  "kernelspec": {
   "display_name": "Python 3.9.12 ('base')",
   "language": "python",
   "name": "python3"
  },
  "language_info": {
   "codemirror_mode": {
    "name": "ipython",
    "version": 3
   },
   "file_extension": ".py",
   "mimetype": "text/x-python",
   "name": "python",
   "nbconvert_exporter": "python",
   "pygments_lexer": "ipython3",
   "version": "3.9.12"
  },
  "orig_nbformat": 4,
  "vscode": {
   "interpreter": {
    "hash": "348b9cd948ce87438be2e622031b2ecfa29bc2d3ecc0fd03127b9a24b30227df"
   }
  }
 },
 "nbformat": 4,
 "nbformat_minor": 2
}
