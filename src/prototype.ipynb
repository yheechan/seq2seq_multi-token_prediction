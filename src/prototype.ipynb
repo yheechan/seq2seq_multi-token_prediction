{
 "cells": [
  {
   "cell_type": "code",
   "execution_count": 1,
   "metadata": {},
   "outputs": [],
   "source": [
    "import predictor\n",
    "import model_util as mu\n",
    "import data\n",
    "import torch"
   ]
  },
  {
   "cell_type": "code",
   "execution_count": 2,
   "metadata": {},
   "outputs": [
    {
     "name": "stdout",
     "output_type": "stream",
     "text": [
      "There are 1 GPU(s) available.\n",
      "Device name: NVIDIA GeForce RTX 3070\n"
     ]
    }
   ],
   "source": [
    "if torch.cuda.is_available():\n",
    "    device = torch.device(\"cuda\")\n",
    "    print(f'There are {torch.cuda.device_count()} GPU(s) available.')\n",
    "    print('Device name:', torch.cuda.get_device_name(0))\n",
    "\n",
    "else:\n",
    "    print('No GPU available, using the CPU instead.')\n",
    "    device = torch.device(\"cpu\")"
   ]
  },
  {
   "cell_type": "code",
   "execution_count": 19,
   "metadata": {},
   "outputs": [],
   "source": [
    "prefix = [48, 2, 89, 33, 88, 111, 117, 47, 2, 53, 33, 48, 2, 89, 33, 88, 111, 117, 47, 2, 53, 33, 48, 2, 89, 33, 88, 111, 2, 89, 33, 88, 50, 50, 111, 2, 89, 33, 88, 2, 89, 33, 58, 2, 88, 117, 47, 2, 90, 47, 47, 134, 56, 48, 33, 48, 48, 124, 47, 2, 48, 88, 2, 89]\n",
    "postfix = [56, 2, 50, 88, 48, 2, 47, 124, 88, 2, 89, 2, 56, 88, 48, 2, 73, 33, 47, 55, 46, 33, 61, 45, 2, 48, 33, 77, 2, 47, 117, 88, 2, 60, 2, 88, 48, 2, 91, 2, 91, 2, 47, 2, 88, 2, 62, 2, 89, 2, 88, 2, 48, 105, 133, 47, 89, 48, 59, 2, 47, 56, 88, 2]\n",
    "label_type = [56, 2, 0, 0, 0, 0, 0, 0, 0, 0]\n",
    "label_len = 2"
   ]
  },
  {
   "cell_type": "code",
   "execution_count": 4,
   "metadata": {},
   "outputs": [],
   "source": [
    "# prefix = [128, 119, 2, 47, 2, 56, 2, 91, 2, 56, 2, 48, 49, 2, 62, 2, 89, 56, 2, 88, 124, 33, 88, 50, 128, 134, 2, 47, 2, 2, 91, 2, 2, 91, 2, 2, 91, 2, 56, 2, 91, 2, 56, 2, 48, 49, 2, 64, 2, 88, 2, 64, 2, 88, 2, 60, 2, 47, 2, 91, 2, 91, 2, 58]\n",
    "# postfix = [2, 51, 2, 62, 2, 48, 2, 51, 2, 62, 2, 72, 2, 62, 2, 47, 117, 49, 109, 49, 48, 2, 56, 2, 91, 2, 56, 2, 91, 2, 56, 2, 47, 2, 119, 128, 50, 88, 2, 89, 2, 56, 48, 2, 56, 77, 2, 47, 117, 88, 2, 89, 2, 56, 48, 2, 56, 72, 2, 47, 117, 88, 48, 2]\n",
    "# label_type = [2, 0, 0, 0, 0, 0, 0, 0, 0, 0]\n",
    "# label_len = 1"
   ]
  },
  {
   "cell_type": "code",
   "execution_count": 5,
   "metadata": {},
   "outputs": [],
   "source": [
    "# prefix = [2, 51, 2, 89, 2, 62, 2, 88, 117, 47, 2, 62, 2, 77, 2, 62, 2, 51, 2, 48, 2, 62, 2, 51, 2, 89, 2, 62, 2, 88, 50, 136, 47, 33, 48, 88, 2, 62, 2, 89, 56, 2, 88, 124, 33, 88, 50, 128, 119, 2, 47, 2, 56, 2, 91, 2, 56, 2, 48, 49, 2, 62, 2, 89]\n",
    "# postfix = [2, 47, 117, 88, 2, 89, 2, 56, 48, 2, 56, 72, 2, 47, 117, 88, 48, 2, 58, 2, 91, 2, 91, 2, 47, 2, 60, 2, 88, 2, 64, 2, 88, 2, 64, 2, 49, 48, 2, 56, 2, 91, 2, 56, 2, 91, 2, 2, 91, 2, 2, 91, 2, 2, 47, 2, 134, 128, 50, 88, 33, 124, 88, 2]\n",
    "# label_type = [56, 2, 0, 0, 0, 0, 0, 0, 0, 0]\n",
    "# label_len = 2"
   ]
  },
  {
   "cell_type": "code",
   "execution_count": 6,
   "metadata": {},
   "outputs": [],
   "source": [
    "# prefix = [47, 2, 48, 47, 2, 48, 48, 62, 2, 48, 48, 88, 2, 2, 89, 47, 47, 134, 56, 48, 33, 48, 88, 117, 47, 2, 62, 2, 62, 2, 48, 2, 89, 2, 62, 2, 62, 2, 47, 2, 91, 2, 48, 88, 2, 89, 2, 88, 50, 136, 47, 33, 48, 88, 117, 47, 2, 54, 2, 62, 2, 48, 2, 89]\n",
    "# postfix = [0, 0, 0, 0, 0, 0, 0, 0, 0, 0, 0, 0, 0, 0, 0, 0, 0, 0, 0, 0, 0, 0, 0, 0, 0, 0, 0, 0, 0, 0, 0, 0, 0, 0, 0, 0, 0, 0, 0, 0, 0, 0, 0, 0, 0, 0, 0, 0, 0, 0, 0, 0, 0, 50, 88, 2, 124, 88, 2, 89, 2, 111, 88, 48]\n",
    "# label_type = [2, 62, 2, 47, 2, 91, 2, 91, 2, 48]\n",
    "# label_len = 10"
   ]
  },
  {
   "cell_type": "code",
   "execution_count": 7,
   "metadata": {},
   "outputs": [],
   "source": [
    "# prefix = [2, 48, 88, 2, 87, 2, 47, 2, 48, 88, 124, 2, 88, 50, 128, 119, 2, 47, 106, 105, 56, 2, 91, 2, 56, 2, 48, 49, 119, 2, 89, 33, 88, 119, 2, 91, 2, 88, 119, 2, 88, 136, 47, 47, 2, 45, 47, 133, 105, 48, 47, 56, 2, 48, 46, 53, 33, 48, 48, 49, 2, 59, 88, 50]\n",
    "# postfix = [88, 59, 2, 50, 88, 33, 67, 2, 124, 49, 111, 50, 88, 2, 116, 88, 59, 2, 49, 48, 2, 90, 2, 84, 2, 90, 2, 47, 117, 111, 50, 88, 33, 58, 89, 2, 49, 48, 2, 90, 2, 47, 117, 111, 50, 88, 33, 61, 89, 2, 49, 48, 2, 90, 2, 47, 117, 88, 2, 56, 89, 2, 88, 33]\n",
    "# label_type = [2, 62, 2, 89, 33, 0, 0, 0, 0, 0]\n",
    "# label_len = 5"
   ]
  },
  {
   "cell_type": "code",
   "execution_count": 8,
   "metadata": {},
   "outputs": [],
   "source": [
    "# prefix = [2, 91, 2, 88, 119, 2, 91, 2, 88, 2, 2, 88, 2, 2, 89, 2, 62, 2, 88, 2, 89, 2, 88, 2, 89, 2, 88, 2, 89, 33, 88, 2, 89, 33, 88, 115, 47, 2, 89, 33, 88, 2, 72, 2, 88, 2, 59, 48, 49, 2, 2, 88, 2, 89, 47, 2, 48, 47, 56, 2, 53, 33, 48, 88]\n",
    "# postfix = [88, 2, 91, 2, 2, 49, 87, 33, 104, 50, 88, 103, 88, 2, 48, 2, 47, 89, 2, 56, 48, 33, 67, 2, 47, 117, 50, 88, 59, 2, 88, 33, 64, 2, 111, 50, 88, 33, 89, 2, 88, 59, 2, 88, 2, 48, 2, 47, 89, 2, 56, 88, 33, 89, 2, 49, 48, 33, 90, 2, 47, 117, 88, 48]\n",
    "# label_type = [2, 85, 47, 2, 73, 2, 48, 0, 0, 0]\n",
    "# label_len = 7"
   ]
  },
  {
   "cell_type": "code",
   "execution_count": 9,
   "metadata": {},
   "outputs": [
    {
     "name": "stdout",
     "output_type": "stream",
     "text": [
      "MySeq2Seq(\n",
      "  (prefixEncoder): Encoder(\n",
      "    (embedding): Embedding(214, 100)\n",
      "    (lstm): LSTM(100, 200, batch_first=True, bidirectional=True)\n",
      "    (hidden_fc): Linear(in_features=200, out_features=100, bias=True)\n",
      "    (cell_fc): Linear(in_features=200, out_features=100, bias=True)\n",
      "    (dp): Dropout(p=0.0, inplace=False)\n",
      "  )\n",
      "  (postfixEncoder): Encoder(\n",
      "    (embedding): Embedding(214, 100)\n",
      "    (lstm): LSTM(100, 200, batch_first=True, bidirectional=True)\n",
      "    (hidden_fc): Linear(in_features=200, out_features=100, bias=True)\n",
      "    (cell_fc): Linear(in_features=200, out_features=100, bias=True)\n",
      "    (dp): Dropout(p=0.0, inplace=False)\n",
      "  )\n",
      "  (decoder): Decoder(\n",
      "    (embedding): Embedding(214, 100)\n",
      "    (lstm): LSTM(100, 200, batch_first=True, bidirectional=True)\n",
      "  )\n",
      "  (attn): Attention(\n",
      "    (fc): Linear(in_features=800, out_features=214, bias=True)\n",
      "    (dp): Dropout(p=0.0, inplace=False)\n",
      "  )\n",
      ")\n"
     ]
    }
   ],
   "source": [
    "overall_title = 'reModelSeq2Seq_tune'\n",
    "title = 'boringssl_'+overall_title+'_tryOVF'\n",
    "\n",
    "model = mu.getModel(overall_title, title)\n",
    "\n",
    "print(model)"
   ]
  },
  {
   "cell_type": "code",
   "execution_count": 20,
   "metadata": {},
   "outputs": [
    {
     "name": "stdout",
     "output_type": "stream",
     "text": [
      "[56, 47, 2, 59, 48, 0, 0, 0, 0, 0]\n"
     ]
    }
   ],
   "source": [
    "results = predictor.predictNoBeam(prefix, postfix, model, device=device)\n",
    "print(results)"
   ]
  },
  {
   "cell_type": "code",
   "execution_count": 21,
   "metadata": {},
   "outputs": [],
   "source": [
    "results = predictor.myBeamStart(model, prefix, postfix, device=device, beam_width=3)"
   ]
  },
  {
   "cell_type": "code",
   "execution_count": 22,
   "metadata": {},
   "outputs": [
    {
     "name": "stdout",
     "output_type": "stream",
     "text": [
      "[56, 47, 2, 59, 48, 0, 0, 0, 0, 0]\n",
      "[56, 2, 0, 0, 0, 0, 0, 0, 0, 0]\n",
      "[56, 47, 2, 56, 48, 2, 0, 0, 0, 0]\n",
      "[2, 0, 0, 0, 0, 0, 0, 0, 0, 0]\n",
      "[56, 47, 2, 59, 48, 0, 48, 0, 0, 0]\n"
     ]
    }
   ],
   "source": [
    "for i in results:\n",
    "    print(i) "
   ]
  },
  {
   "cell_type": "code",
   "execution_count": 14,
   "metadata": {},
   "outputs": [
    {
     "data": {
      "text/plain": [
       "(tensor([[[213,  33,  33,   0,   0,   0,   0,   0,   0,   0,   0],\n",
       "          [213,  33,  33,   0,   0,   0,   0,   0,   0,   0,   0],\n",
       "          [213,  33,  33,   0,   0,   0,   0,   0,   0,   0,   0],\n",
       "          [213, 127,  33,  47,   0,   2,   0,  48,   0,   0,   0],\n",
       "          [213, 127,  33,  47,   0,   2,   0,  48,   0,   0,   0]]],\n",
       "        device='cuda:0'),\n",
       " tensor([[-0.3875, -1.5548, -3.0890, -3.9541, -4.7547]], device='cuda:0'))"
      ]
     },
     "execution_count": 14,
     "metadata": {},
     "output_type": "execute_result"
    }
   ],
   "source": [
    "predictor.beam_search(\n",
    "    model,\n",
    "    prefix,\n",
    "    postfix,\n",
    "    device\n",
    ")"
   ]
  },
  {
   "cell_type": "code",
   "execution_count": 15,
   "metadata": {},
   "outputs": [],
   "source": [
    "# for i in pred_results:\n",
    "#     print(i)"
   ]
  },
  {
   "cell_type": "code",
   "execution_count": 16,
   "metadata": {},
   "outputs": [],
   "source": [
    "# idx2str = data.getIdx2str()"
   ]
  },
  {
   "cell_type": "code",
   "execution_count": 17,
   "metadata": {},
   "outputs": [],
   "source": [
    "# final = data.idx2str(pred_results)"
   ]
  },
  {
   "cell_type": "code",
   "execution_count": 18,
   "metadata": {},
   "outputs": [],
   "source": [
    "# for i in final:\n",
    "    # print(i)"
   ]
  },
  {
   "cell_type": "code",
   "execution_count": null,
   "metadata": {},
   "outputs": [],
   "source": []
  }
 ],
 "metadata": {
  "kernelspec": {
   "display_name": "Python 3.9.12 ('base')",
   "language": "python",
   "name": "python3"
  },
  "language_info": {
   "codemirror_mode": {
    "name": "ipython",
    "version": 3
   },
   "file_extension": ".py",
   "mimetype": "text/x-python",
   "name": "python",
   "nbconvert_exporter": "python",
   "pygments_lexer": "ipython3",
   "version": "3.9.12"
  },
  "orig_nbformat": 4,
  "vscode": {
   "interpreter": {
    "hash": "348b9cd948ce87438be2e622031b2ecfa29bc2d3ecc0fd03127b9a24b30227df"
   }
  }
 },
 "nbformat": 4,
 "nbformat_minor": 2
}
