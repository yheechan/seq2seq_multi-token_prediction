{
 "cells": [
  {
   "cell_type": "code",
   "execution_count": 1,
   "metadata": {},
   "outputs": [],
   "source": [
    "import predictor\n",
    "import model_util as mu\n",
    "import data"
   ]
  },
  {
   "cell_type": "code",
   "execution_count": 2,
   "metadata": {},
   "outputs": [],
   "source": [
    "prefix = [134, 56, 48, 33, 48, 88, 2, 89, 2, 47, 47, 47, 33, 73, 33, 48, 48, 48, 88, 117, 47, 2, 67, 33, 48, 49, 2, 47, 2, 91, 2, 91, 2, 47, 2, 48, 48, 88, 124, 33, 88, 50, 2, 51, 2, 89, 47, 33, 73, 33, 48, 88, 2, 51, 2, 89, 47, 47, 134, 56, 48, 33, 48, 88]\n",
    "postfix = [48, 33, 90, 48, 2, 91, 2, 51, 46, 2, 45, 2, 47, 2, 47, 117, 49, 48, 59, 2, 88, 2, 72, 2, 88, 33, 89, 2, 47, 115, 87, 2, 104, 88, 103, 87, 2, 104, 49, 48, 2, 47, 130, 49, 48, 33, 61, 67, 48, 48, 2, 91, 2, 91, 2, 47, 2, 89, 2, 47, 47, 136, 88, 33]\n",
    "label_type = [2, 51, 2, 89, 33, 0, 0, 0, 0, 0],"
   ]
  },
  {
   "cell_type": "code",
   "execution_count": 3,
   "metadata": {},
   "outputs": [],
   "source": [
    "overall_title = 'testRun'\n",
    "title = 'boringssl_'+overall_title+'_1'\n",
    "\n",
    "prefix_pack, postfix_pack, attn_pack = mu.getModel(overall_title, title)"
   ]
  },
  {
   "cell_type": "code",
   "execution_count": 4,
   "metadata": {},
   "outputs": [],
   "source": [
    "pred_results = predictor.predict(prefix, postfix, prefix_pack, postfix_pack, attn_pack)"
   ]
  },
  {
   "cell_type": "code",
   "execution_count": 5,
   "metadata": {},
   "outputs": [
    {
     "name": "stdout",
     "output_type": "stream",
     "text": [
      "[2, 51, 2, 89, 33, 1]\n",
      "[2, 89, 33, 1]\n",
      "[2, 51, 2, 51, 2, 89, 33, 1]\n",
      "[2, 51, 2, 89, 2, 58, 33, 1]\n",
      "[47, 2, 51, 2, 89, 33, 48, 67, 33]\n"
     ]
    }
   ],
   "source": [
    "for i in pred_results:\n",
    "    print(i)"
   ]
  },
  {
   "cell_type": "code",
   "execution_count": 6,
   "metadata": {},
   "outputs": [],
   "source": [
    "idx2str = data.getIdx2str()"
   ]
  },
  {
   "cell_type": "code",
   "execution_count": 7,
   "metadata": {},
   "outputs": [],
   "source": [
    "final = data.idx2str(pred_results)"
   ]
  },
  {
   "cell_type": "code",
   "execution_count": 8,
   "metadata": {},
   "outputs": [
    {
     "name": "stdout",
     "output_type": "stream",
     "text": [
      "@@ . @@ = 1 \n",
      "@@ = 1 \n",
      "@@ . @@ . @@ = 1 \n",
      "@@ . @@ = @@ + 1 \n",
      "( @@ . @@ = 1 ) != 1\n"
     ]
    }
   ],
   "source": [
    "for i in final:\n",
    "    print(i)"
   ]
  },
  {
   "cell_type": "code",
   "execution_count": null,
   "metadata": {},
   "outputs": [],
   "source": []
  }
 ],
 "metadata": {
  "kernelspec": {
   "display_name": "Python 3.9.12 ('base')",
   "language": "python",
   "name": "python3"
  },
  "language_info": {
   "codemirror_mode": {
    "name": "ipython",
    "version": 3
   },
   "file_extension": ".py",
   "mimetype": "text/x-python",
   "name": "python",
   "nbconvert_exporter": "python",
   "pygments_lexer": "ipython3",
   "version": "3.9.12"
  },
  "orig_nbformat": 4,
  "vscode": {
   "interpreter": {
    "hash": "348b9cd948ce87438be2e622031b2ecfa29bc2d3ecc0fd03127b9a24b30227df"
   }
  }
 },
 "nbformat": 4,
 "nbformat_minor": 2
}
